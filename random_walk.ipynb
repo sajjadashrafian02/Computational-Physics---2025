{
 "cells": [
  {
   "cell_type": "markdown",
   "metadata": {},
   "source": [
    "# Execrisice 5.2(1D random walk)"
   ]
  },
  {
   "cell_type": "code",
   "execution_count": 35,
   "metadata": {},
   "outputs": [
    {
     "name": "stdout",
     "output_type": "stream",
     "text": [
      "average x = -281.866\n",
      "expected average x = -600.0000000000001\n",
      "variance x = 794376015.224\n",
      "expected variance x = 639.9999999999999\n",
      "average error = 112.86710706505933 %\n",
      "variance error = 99.99991943361988 %\n"
     ]
    }
   ],
   "source": [
    "import numpy as np  # Importing NumPy for random number generation\n",
    "from math import sqrt  # Importing sqrt (though not used in the code)\n",
    "\n",
    "# Initializing variables\n",
    "L = 1       # Step length\n",
    "t = 1000    # Number of steps\n",
    "p = 0.8     # Probability of stepping left\n",
    "x2, x_2 = 0, 0  # Variables to track sum of x and sum of x squared\n",
    "x = 0  # Initial position\n",
    "\n",
    "# Performing the random walk\n",
    "for i in range(t):\n",
    "    Q = np.random.rand()  # Generate a random number between 0 and 1\n",
    "    if p < Q:  \n",
    "        x += 1  # Step right\n",
    "    else:\n",
    "        x -= 1  # Step left\n",
    "    x2 += x  # Update sum of positions\n",
    "    x_2 += x**2  # Update sum of squared positions\n",
    "\n",
    "# Calculating statistics\n",
    "average_x = x2 / t  # Mean position\n",
    "expected_average_x = L * t * (1 - 2 * p)  # Theoretical mean position\n",
    "variance_x = x2**2 / 100 - x_2 / t  # Sample variance\n",
    "expected_variance_x = 4 * L**2 * p * (1 - p) * t  # Theoretical variance\n",
    "\n",
    "# Calculating errors\n",
    "error_average_x = abs(average_x - expected_average_x) / abs(average_x)\n",
    "error_variance_x = abs(variance_x - expected_variance_x) / abs(variance_x)\n",
    "\n",
    "# Printing results\n",
    "print('average x =', average_x)\n",
    "print('expected average x =', expected_average_x)\n",
    "print('variance x =', variance_x)\n",
    "print('expected variance x =', expected_variance_x)\n",
    "print('average error =', error_average_x * 100, '%')\n",
    "print('variance error =', error_variance_x * 100, '%')\n"
   ]
  },
  {
   "cell_type": "markdown",
   "metadata": {},
   "source": [
    "# Execrisice 5.3(1D random walk with walls)"
   ]
  },
  {
   "cell_type": "markdown",
   "metadata": {},
   "source": [
    "## x0=0"
   ]
  },
  {
   "cell_type": "code",
   "execution_count": 41,
   "metadata": {},
   "outputs": [
    {
     "name": "stdout",
     "output_type": "stream",
     "text": [
      "[215, 69, 33, 251, 79, 41, 103, 47, 19, 71]\n",
      "average_lifetime = 92.8\n"
     ]
    }
   ],
   "source": [
    "import numpy as np  # Importing NumPy for random number generation\n",
    "from math import sqrt  # Importing sqrt (though it's not used in the code)\n",
    "\n",
    "# Parameters\n",
    "L = 1       # Step length (not used explicitly)\n",
    "p = 0.5     # Probability of stepping left\n",
    "wall = 10   # Boundary at which the walk stops\n",
    "x = 0       # Initial position\n",
    "lifetime = []  # List to store the lifetime of each walk\n",
    "\n",
    "# Simulating 10 random walks\n",
    "for i in range(10):\n",
    "    t = 0  # Time steps counter\n",
    "    x = 0  # Reset position for each walk\n",
    "    \n",
    "    while True:\n",
    "        Q = np.random.rand()  # Generate a random number between 0 and 1\n",
    "        if p < Q:\n",
    "            x += 1  # Step right\n",
    "        else:\n",
    "            x -= 1  # Step left\n",
    "        \n",
    "        # Check if the walker has hit the boundary\n",
    "        if x == wall or x == -wall:\n",
    "            lifetime.append(t)  # Record the lifetime (time steps)\n",
    "            break  # Stop the current walk\n",
    "        else:\n",
    "            t += 1  # Increment time step\n",
    "\n",
    "print(lifetime)  # Print all recorded lifetimes\n",
    "\n",
    "# Compute the average lifetime\n",
    "average_lifetime = sum(lifetime) / len(lifetime)\n",
    "\n",
    "# Print results\n",
    "print('average_lifetime =', average_lifetime)\n"
   ]
  },
  {
   "cell_type": "markdown",
   "metadata": {},
   "source": [
    "## x0=2"
   ]
  },
  {
   "cell_type": "code",
   "execution_count": 40,
   "metadata": {},
   "outputs": [
    {
     "name": "stdout",
     "output_type": "stream",
     "text": [
      "[47, 155, 37, 123, 25, 65, 113, 73, 49, 171]\n",
      "average_lifetime = 85.8\n"
     ]
    }
   ],
   "source": [
    "import numpy as np  # Importing NumPy for random number generation\n",
    "from math import sqrt  # Importing sqrt (though it's not used in the code)\n",
    "\n",
    "# Parameters\n",
    "L = 1       # Step length (not used explicitly)\n",
    "p = 0.5     # Probability of stepping left\n",
    "wall = 10   # Boundary at which the walk stops\n",
    "x = 2     # Initial position\n",
    "lifetime = []  # List to store the lifetime of each walk\n",
    "\n",
    "# Simulating 10 random walks\n",
    "for i in range(10):\n",
    "    t = 0  # Time steps counter\n",
    "    x = 2 # Reset position for each walk\n",
    "    \n",
    "    while True:\n",
    "        Q = np.random.rand()  # Generate a random number between 0 and 1\n",
    "        if p < Q:\n",
    "            x += 1  # Step right\n",
    "        else:\n",
    "            x -= 1  # Step left\n",
    "        \n",
    "        # Check if the walker has hit the boundary\n",
    "        if x == wall or x == -wall:\n",
    "            lifetime.append(t)  # Record the lifetime (time steps)\n",
    "            break  # Stop the current walk\n",
    "        else:\n",
    "            t += 1  # Increment time step\n",
    "\n",
    "print(lifetime)  # Print all recorded lifetimes\n",
    "\n",
    "# Compute the average lifetime\n",
    "average_lifetime = sum(lifetime) / len(lifetime)\n",
    "\n",
    "# Print results\n",
    "print('average_lifetime =', average_lifetime)\n"
   ]
  },
  {
   "cell_type": "markdown",
   "metadata": {},
   "source": [
    "## x=-2"
   ]
  },
  {
   "cell_type": "code",
   "execution_count": 42,
   "metadata": {},
   "outputs": [
    {
     "name": "stdout",
     "output_type": "stream",
     "text": [
      "[79, 97, 51, 153, 183, 37, 19, 39, 49, 73]\n",
      "average_lifetime = 78.0\n"
     ]
    }
   ],
   "source": [
    "import numpy as np  # Importing NumPy for random number generation\n",
    "from math import sqrt  # Importing sqrt (though it's not used in the code)\n",
    "\n",
    "# Parameters\n",
    "L = 1       # Step length (not used explicitly)\n",
    "p = 0.5     # Probability of stepping left\n",
    "wall = 10   # Boundary at which the walk stops\n",
    "x = -2       # Initial position\n",
    "lifetime = []  # List to store the lifetime of each walk\n",
    "\n",
    "# Simulating 10 random walks\n",
    "for i in range(10):\n",
    "    t = 0  # Time steps counter\n",
    "    x = -2  # Reset position for each walk\n",
    "    \n",
    "    while True:\n",
    "        Q = np.random.rand()  # Generate a random number between 0 and 1\n",
    "        if p < Q:\n",
    "            x += 1  # Step right\n",
    "        else:\n",
    "            x -= 1  # Step left\n",
    "        \n",
    "        # Check if the walker has hit the boundary\n",
    "        if x == wall or x == -wall:\n",
    "            lifetime.append(t)  # Record the lifetime (time steps)\n",
    "            break  # Stop the current walk\n",
    "        else:\n",
    "            t += 1  # Increment time step\n",
    "\n",
    "print(lifetime)  # Print all recorded lifetimes\n",
    "\n",
    "# Compute the average lifetime\n",
    "average_lifetime = sum(lifetime) / len(lifetime)\n",
    "\n",
    "# Print results\n",
    "print('average_lifetime =', average_lifetime)\n"
   ]
  },
  {
   "cell_type": "markdown",
   "metadata": {},
   "source": [
    "## x0=4"
   ]
  },
  {
   "cell_type": "code",
   "execution_count": 44,
   "metadata": {},
   "outputs": [
    {
     "name": "stdout",
     "output_type": "stream",
     "text": [
      "[47, 25, 33, 135, 35, 49, 13, 23, 209, 139]\n",
      "average_lifetime = 70.8\n"
     ]
    }
   ],
   "source": [
    "import numpy as np  # Importing NumPy for random number generation\n",
    "from math import sqrt  # Importing sqrt (though it's not used in the code)\n",
    "\n",
    "# Parameters\n",
    "L = 1       # Step length (not used explicitly)\n",
    "p = 0.5     # Probability of stepping left\n",
    "wall = 10   # Boundary at which the walk stops\n",
    "x = 4    # Initial position\n",
    "lifetime = []  # List to store the lifetime of each walk\n",
    "\n",
    "# Simulating 10 random walks\n",
    "for i in range(10):\n",
    "    t = 0  # Time steps counter\n",
    "    x = 4  # Reset position for each walk\n",
    "    \n",
    "    while True:\n",
    "        Q = np.random.rand()  # Generate a random number between 0 and 1\n",
    "        if p < Q:\n",
    "            x += 1  # Step right\n",
    "        else:\n",
    "            x -= 1  # Step left\n",
    "        \n",
    "        # Check if the walker has hit the boundary\n",
    "        if x == wall or x == -wall:\n",
    "            lifetime.append(t)  # Record the lifetime (time steps)\n",
    "            break  # Stop the current walk\n",
    "        else:\n",
    "            t += 1  # Increment time step\n",
    "\n",
    "print(lifetime)  # Print all recorded lifetimes\n",
    "\n",
    "# Compute the average lifetime\n",
    "average_lifetime = sum(lifetime) / len(lifetime)\n",
    "\n",
    "# Print results\n",
    "print('average_lifetime =', average_lifetime)\n"
   ]
  },
  {
   "cell_type": "markdown",
   "metadata": {},
   "source": [
    "## x0=-4"
   ]
  },
  {
   "cell_type": "code",
   "execution_count": 45,
   "metadata": {},
   "outputs": [
    {
     "name": "stdout",
     "output_type": "stream",
     "text": [
      "[143, 9, 69, 9, 5, 11, 51, 67, 55, 5]\n",
      "average_lifetime = 42.4\n"
     ]
    }
   ],
   "source": [
    "import numpy as np  # Importing NumPy for random number generation\n",
    "from math import sqrt  # Importing sqrt (though it's not used in the code)\n",
    "\n",
    "# Parameters\n",
    "L = 1       # Step length (not used explicitly)\n",
    "p = 0.5     # Probability of stepping left\n",
    "wall = 10   # Boundary at which the walk stops\n",
    "x = -4       # Initial position\n",
    "lifetime = []  # List to store the lifetime of each walk\n",
    "\n",
    "# Simulating 10 random walks\n",
    "for i in range(10):\n",
    "    t = 0  # Time steps counter\n",
    "    x = -4  # Reset position for each walk\n",
    "    \n",
    "    while True:\n",
    "        Q = np.random.rand()  # Generate a random number between 0 and 1\n",
    "        if p < Q:\n",
    "            x += 1  # Step right\n",
    "        else:\n",
    "            x -= 1  # Step left\n",
    "        \n",
    "        # Check if the walker has hit the boundary\n",
    "        if x == wall or x == -wall:\n",
    "            lifetime.append(t)  # Record the lifetime (time steps)\n",
    "            break  # Stop the current walk\n",
    "        else:\n",
    "            t += 1  # Increment time step\n",
    "\n",
    "print(lifetime)  # Print all recorded lifetimes\n",
    "\n",
    "# Compute the average lifetime\n",
    "average_lifetime = sum(lifetime) / len(lifetime)\n",
    "\n",
    "# Print results\n",
    "print('average_lifetime =', average_lifetime)\n"
   ]
  },
  {
   "cell_type": "markdown",
   "metadata": {},
   "source": [
    "# Execrisice 5.5(2D random walk)"
   ]
  },
  {
   "cell_type": "code",
   "execution_count": 46,
   "metadata": {},
   "outputs": [
    {
     "name": "stdout",
     "output_type": "stream",
     "text": [
      "Final Position: [-4 92]\n",
      "<x^2> = 406.8253205128205\n",
      "Expected <x^2> = 4992.0\n",
      "<y^2> = 2187.314696485623\n",
      "Expected <y^2> = 5008.0\n",
      "<r^2> = 1298.4944\n",
      "Expected <r^2> = 20000.0\n"
     ]
    }
   ],
   "source": [
    "import numpy as np  # Import NumPy for random number generation\n",
    "\n",
    "# Initialize position at (0,0)\n",
    "position = np.array([0, 0])\n",
    "\n",
    "# Initialize variables for tracking squared distances and step counts\n",
    "x2, y2, t1, t2, L = 0, 0, 0, 0, 1\n",
    "\n",
    "# Perform 10,000 random steps\n",
    "for i in range(10000):\n",
    "    Q = np.random.rand()  # Generate a random number between 0 and 1\n",
    "    \n",
    "    if Q <= 0.25:  # Move right\n",
    "        position[0] += L\n",
    "        x2 += position[0]**2  # Update sum of x^2\n",
    "        t1 += 1  # Increment x-step count\n",
    "        \n",
    "    elif 0.25 < Q <= 0.5:  # Move left\n",
    "        position[0] -= L\n",
    "        x2 += position[0]**2\n",
    "        t1 += 1  # Increment x-step count\n",
    "        \n",
    "    elif 0.5 < Q <= 0.75:  # Move up\n",
    "        position[1] += L\n",
    "        y2 += position[1]**2  # Update sum of y^2\n",
    "        t2 += 1  # Increment y-step count\n",
    "        \n",
    "    else:  # Move down (Q > 0.75)\n",
    "        position[1] -= L\n",
    "        y2 += position[1]**2\n",
    "        t2 += 1  # Increment y-step count\n",
    "\n",
    "# Print final position\n",
    "print(\"Final Position:\", position)\n",
    "\n",
    "# Compute and print expected squared displacements\n",
    "print('<x^2> =', x2 / t1)  \n",
    "print('Expected <x^2> =', 2 * t1 * L**2 / 2)  \n",
    "\n",
    "print('<y^2> =', y2 / t2)  \n",
    "print('Expected <y^2> =', 2 * t2 * L**2 / 2)  \n",
    "\n",
    "print('<r^2> =', (y2 + x2) / (t2 + t1))  \n",
    "print('Expected <r^2> =', 4 * (t2 + t1) * L**2 / 2)  \n"
   ]
  },
  {
   "cell_type": "markdown",
   "metadata": {},
   "source": [
    "# Execrisice 5.6"
   ]
  },
  {
   "cell_type": "code",
   "execution_count": 47,
   "metadata": {},
   "outputs": [
    {
     "data": {
      "image/png": "[encoded data removed]",
      "text/plain": [
       "<Figure size 640x480 with 1 Axes>"
      ]
     },
     "metadata": {},
     "output_type": "display_data"
    }
   ],
   "source": [
    "import matplotlib.pyplot as plt  # Import Matplotlib for visualization\n",
    "import numpy as np  # Import NumPy for randomness\n",
    "\n",
    "# Create figure and axis for plotting\n",
    "fig, ax = plt.subplots()\n",
    "ax.set_xlim(0, 200)  # Set x-axis limits\n",
    "ax.set_ylim(0, 200)  # Set y-axis limits\n",
    "\n",
    "# Initialize list for \"seed\" points and set step size\n",
    "seeds, L = [], 1  \n",
    "\n",
    "# Create initial seed row at the bottom\n",
    "for i in range(200):\n",
    "    square = plt.Rectangle([i, 0], 1, 1, color='red')  # Draw a red square at (i,0)\n",
    "    ax.add_patch(square)  # Add square to plot\n",
    "    seeds.append([i, 0])  # Store seed positions\n",
    "\n",
    "# Generate 1000 random particles\n",
    "for i in range(1000):\n",
    "    point = [100, 20]  # Start each particle at (100,20)\n",
    "\n",
    "    while True:\n",
    "        Q = np.random.rand()  # Generate random number\n",
    "\n",
    "        # Move particle randomly in one of four directions\n",
    "        if Q <= 0.25:\n",
    "            point[0] += L  # Move right\n",
    "        elif 0.25 < Q <= 0.5:\n",
    "            point[0] -= L  # Move left\n",
    "        elif 0.5 < Q <= 0.75:\n",
    "            point[1] += L  # Move up\n",
    "        else:\n",
    "            point[1] -= L  # Move down\n",
    "\n",
    "        # Stop if the particle moves outside boundaries\n",
    "        if point[0] < 0 or point[0] > 200:\n",
    "            break\n",
    "        if point[1] > 40:\n",
    "            break\n",
    "\n",
    "        # Check if particle is next to a seed and attach\n",
    "        if point not in seeds:\n",
    "            if ([point[0] + 1, point[1]] in seeds) or ([point[0] - 1, point[1]] in seeds) or \\\n",
    "               ([point[0], point[1] - 1] in seeds):\n",
    "                square = plt.Rectangle(point, 1, 1, color='red')  # Draw particle at its final position\n",
    "                ax.add_patch(square)\n",
    "                seeds.append(point)  # Add new seed point\n",
    "                break  # Stop moving this particle\n",
    "\n",
    "# Display final aggregation pattern\n",
    "plt.show()"
   ]
  },
  {
   "cell_type": "markdown",
   "metadata": {},
   "source": [
    "# EXcersice 5.7"
   ]
  },
  {
   "cell_type": "markdown",
   "metadata": {},
   "source": [
    "## cicular boundry"
   ]
  },
  {
   "cell_type": "code",
   "execution_count": 48,
   "metadata": {},
   "outputs": [
    {
     "data": {
      "image/png": "[encoded data removed]",
      "text/plain": [
       "<Figure size 640x480 with 1 Axes>"
      ]
     },
     "metadata": {},
     "output_type": "display_data"
    }
   ],
   "source": [
    "import matplotlib.pyplot as plt  # Import Matplotlib for visualization\n",
    "import numpy as np  # Import NumPy for random number generation\n",
    "import math  # Import math module for square root calculations\n",
    "\n",
    "# Create figure and axis for plotting\n",
    "fig, ax = plt.subplots()\n",
    "ax.set_xlim(0, 200)  # Set x-axis limits\n",
    "ax.set_ylim(-40, 40)  # Set y-axis limits\n",
    "\n",
    "# Initialize seed positions and step size\n",
    "seeds, L = [], 1\n",
    "\n",
    "# Create an initial seed at (100,0)\n",
    "square = plt.Rectangle([100, 0], 1, 1, color='red')  \n",
    "ax.add_patch(square)  \n",
    "seeds.append([100, 0])  \n",
    "\n",
    "# Generate 2000 particles\n",
    "for i in range(2000):\n",
    "    # Choose a random starting y-position between 1 and 20\n",
    "    starting_yposition = np.random.randint(1, 20)\n",
    "\n",
    "    # Compute corresponding x-position based on a circular boundary (r^2 = 400)\n",
    "    starting_xposition = math.sqrt(400 - starting_yposition**2) + 100\n",
    "    point = [starting_xposition, starting_yposition]  # Initialize particle position\n",
    "\n",
    "    # Perform random walk\n",
    "    while True:\n",
    "        Q = np.random.rand()  # Generate a random number\n",
    "\n",
    "        # Move particle in one of four directions\n",
    "        if Q <= 0.25:\n",
    "            point[0] += L  # Move right\n",
    "        elif 0.25 < Q <= 0.5:\n",
    "            point[0] -= L  # Move left\n",
    "        elif 0.5 < Q <= 0.75:\n",
    "            point[1] += L  # Move up\n",
    "        else:\n",
    "            point[1] -= L  # Move down\n",
    "\n",
    "        # Stop if the particle moves outside boundaries\n",
    "        if point[0] < 0 or point[0] > 200:\n",
    "            break\n",
    "        if point[1] > 40 or point[1] < -40:\n",
    "            break\n",
    "\n",
    "        # Check if particle is next to a seed and attach\n",
    "        if point not in seeds:\n",
    "            if ([point[0] + 1, point[1]] in seeds) or ([point[0] - 1, point[1]] in seeds) or \\\n",
    "               ([point[0], point[1] - 1] in seeds) or ([point[0], point[1] + 1] in seeds):\n",
    "                square = plt.Rectangle(point, 1, 1, color='red')  \n",
    "                ax.add_patch(square)  \n",
    "                seeds.append(point)  \n",
    "                break  # Stop moving this particle\n",
    "\n",
    "# Display final aggregation pattern\n",
    "plt.show()\n"
   ]
  },
  {
   "cell_type": "markdown",
   "metadata": {},
   "source": [
    "## square boundry"
   ]
  },
  {
   "cell_type": "code",
   "execution_count": 52,
   "metadata": {},
   "outputs": [
    {
     "data": {
      "image/png": "[encoded data removed]",
      "text/plain": [
       "<Figure size 640x480 with 1 Axes>"
      ]
     },
     "metadata": {},
     "output_type": "display_data"
    }
   ],
   "source": [
    " # Importing matplotlib for plotting\n",
    "import numpy as np  # Importing numpy for numerical operations\n",
    "import math  # Importing math module\n",
    "\n",
    "# Creating figure and axis\n",
    "fig, ax = plt.subplots()\n",
    "ax.set_xlim(0, 200)  # Setting x-axis limits\n",
    "ax.set_ylim(-40, 40)  # Setting y-axis limits\n",
    "\n",
    "# Initializing variables\n",
    "seeds, L = [], 1  # Creating empty list for seeds and setting step size\n",
    "\n",
    "# Creating the initial seed point\n",
    "square = plt.Rectangle([i, 0], 1, 1, color='red')  # Creating a red square at (i,0)\n",
    "ax.add_patch(square)  # Adding the square to the plot\n",
    "seeds.append([100, 0])  # Adding the initial seed to the list\n",
    "\n",
    "# Loop to generate 2000 random walkers\n",
    "for i in range(2000):\n",
    "    starting_xposition = np.random.randint(90, 110)  # Choosing a random x position between 90 and 110\n",
    "    \n",
    "    # Determining starting y position based on x\n",
    "    if x == 80 or x == 120:  # If x is at the boundary values\n",
    "        starting_yposition = np.random.randint(-20, 20)  # Random y position between -10 and 10\n",
    "    else:\n",
    "        z = np.random.randint(1, 3)  # Randomly choosing between 1 and 2\n",
    "        if z == 1:\n",
    "            starting_yposition = 20 # Assigning y = 10 if z == 1\n",
    "        else:\n",
    "            starting_yposition = -20  # Assigning y = -10 if z == 2\n",
    "    \n",
    "    # Setting initial point\n",
    "    point = [starting_xposition, starting_yposition]\n",
    "    \n",
    "    # Random walk loop\n",
    "    while True:\n",
    "        Q = np.random.rand()  # Generating a random number between 0 and 1\n",
    "        \n",
    "        # Deciding movement direction\n",
    "        if Q <= .25:\n",
    "            point[0] += L  # Move right\n",
    "        if Q <= .5 and Q >= .25:\n",
    "            point[0] -= L  # Move left\n",
    "        if Q <= .75 and Q >= .5:\n",
    "            point[1] += L  # Move up\n",
    "        if Q >= .75:\n",
    "            point[1] -= L  # Move down\n",
    "        \n",
    "        # Checking boundary conditions\n",
    "        if point[0] < 0 or point[0] > 200:\n",
    "            break  # Stop if out of x bounds\n",
    "        if point[1] > 40:\n",
    "            break  # Stop if out of upper y bound\n",
    "        if point[1] < -40:\n",
    "            break  # Stop if out of lower y bound\n",
    "        \n",
    "        # Checking if the point is already in the seed list\n",
    "        if point not in seeds:\n",
    "            # Checking neighborhood for seeding condition\n",
    "            if ([point[0] + 1, point[1]] in seeds) or ([point[0] - 1, point[1]] in seeds):\n",
    "                square = plt.Rectangle(point, 1, 1, color='red')  # Creating new red square\n",
    "                ax.add_patch(square)  # Adding square to plot\n",
    "                seeds.append(point)  # Adding point to seed list\n",
    "                break  # Stop random walk\n",
    "            elif [point[0], point[1] - 1] in seeds or ([point[0], point[1] + 1] in seeds):\n",
    "                square = plt.Rectangle(point, 1, 1, color='red')  # Creating new red square\n",
    "                ax.add_patch(square)  # Adding square to plot\n",
    "                seeds.append(point)  # Adding point to seed list\n",
    "                break  # Stop random walk\n",
    "\n",
    "# Displaying the plot\n",
    "plt.show()"
   ]
  },
  {
   "cell_type": "markdown",
   "metadata": {},
   "source": [
    "# EXcersice 5.8"
   ]
  },
  {
   "cell_type": "code",
   "execution_count": 55,
   "metadata": {},
   "outputs": [
    {
     "name": "stdout",
     "output_type": "stream",
     "text": [
      "[-31, -62] [72, 249, 319, 391, 549, 979, 1097, 1130, 1189, 1240, 1291, 1360, 1447, 1486, 1671, 1825, 1989, 2102, 2138, 2364, 2413, 2465, 2643, 2693, 2771, 2905, 2959, 3015, 3060, 3258, 3339, 3442, 3478, 3634, 3699, 3776, 3833, 3944, 4084, 4153, 4267, 4344, 4393, 4683, 4777, 4817, 4892, 4906, 5018, 5085, 5157, 5197, 5237, 5275, 5307, 5359, 5476, 5525, 5615, 5668, 5798, 5869, 5949, 6045, 6127, 6201, 6265, 6440, 6687, 6788, 6845, 6945, 7058, 7069, 7177, 7344, 7408, 7439, 7481, 7539, 7661, 7684, 7712, 7841, 7895, 8050, 8122, 8299, 8708, 8781, 8986, 9128, 9224, 9358, 9551, 9737, 9813, 9998]\n"
     ]
    }
   ],
   "source": [
    "# Import necessary library\n",
    "import numpy as np\n",
    "\n",
    "# Initialize position and tracking variables\n",
    "position, T = [0, 0], []  # Position of the walker and list to store times\n",
    "t = 0  # Time step counter\n",
    "x2, y2, L = 0, 0, 1  # Initialize x^2, y^2, step size L\n",
    "memory = [[0, 0]]  # List to track visited positions\n",
    "\n",
    "# Run the random walk for 10,000 steps\n",
    "for i in range(10000):\n",
    "    Q = np.random.rand()  # Generate a random number between 0 and 1\n",
    "    \n",
    "    # Move right if Q <= 0.25 and position not in memory\n",
    "    if Q <= .25:\n",
    "        if [position[0] + L, position[1]] not in memory:\n",
    "            position[0] += L\n",
    "            C = position.copy()\n",
    "            memory.append(C)\n",
    "    \n",
    "    # Move left if 0.25 < Q <= 0.5 and position not in memory\n",
    "    if Q <= .5 and Q >= .25:\n",
    "        if [position[0] - L, position[1]] not in memory:\n",
    "            position[0] -= L\n",
    "            C = position.copy()\n",
    "            memory.append(C)\n",
    "    \n",
    "    # Move up if 0.5 < Q <= 0.75 and position not in memory\n",
    "    if Q <= .75 and Q >= .5:\n",
    "        if [position[0], position[1] + L] not in memory:\n",
    "            position[1] += L\n",
    "            C = position.copy()\n",
    "            memory.append(C)\n",
    "    \n",
    "    # Move down if Q > 0.75 and position not in memory\n",
    "    if Q >= .75:\n",
    "        if [position[0], position[1] - L] not in memory:\n",
    "            position[1] -= L\n",
    "            C = position.copy()\n",
    "            memory.append(C)\n",
    "    \n",
    "    # If all neighboring positions have been visited, reset memory and record time\n",
    "    if ([position[0] + L, position[1]] in memory) and \\\n",
    "       ([position[0] - L, position[1]] in memory) and \\\n",
    "       ([position[0], position[1] + L] in memory) and \\\n",
    "       ([position[0], position[1] - L] in memory):\n",
    "        memory = []  # Reset memory\n",
    "        T.append(t)  # Store time step\n",
    "    \n",
    "    # Increment time step\n",
    "    t += 1\n",
    "\n",
    "# Print final position and time steps\n",
    "print(position, T)\n"
   ]
  },
  {
   "cell_type": "code",
   "execution_count": null,
   "metadata": {},
   "outputs": [],
   "source": []
  }
 ],
 "metadata": {
  "kernelspec": {
   "display_name": "Python 3",
   "language": "python",
   "name": "python3"
  },
  "language_info": {
   "codemirror_mode": {
    "name": "ipython",
    "version": 3
   },
   "file_extension": ".py",
   "mimetype": "text/x-python",
   "name": "python",
   "nbconvert_exporter": "python",
   "pygments_lexer": "ipython3",
   "version": "3.7.9"
  }
 },
 "nbformat": 4,
 "nbformat_minor": 2
}
