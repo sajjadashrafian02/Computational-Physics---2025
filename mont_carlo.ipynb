{
 "cells": [
  {
   "cell_type": "markdown",
   "metadata": {},
   "source": [
    "# Monte Carlo Simulation "
   ]
  },
  {
   "cell_type": "markdown",
   "metadata": {},
   "source": [
    "## Question 7.1 - Buffon's Needle Method(Area Estimation)"
   ]
  },
  {
   "cell_type": "code",
   "execution_count": 63,
   "metadata": {},
   "outputs": [
    {
     "name": "stdout",
     "output_type": "stream",
     "text": [
      "value of integrak is: -6.092313907686092\n",
      "error is: 0.015385651281015397\n"
     ]
    },
    {
     "data": {
      "image/png": "[encoded data removed]",
      "text/plain": [
       "<Figure size 640x480 with 1 Axes>"
      ]
     },
     "metadata": {},
     "output_type": "display_data"
    }
   ],
   "source": [
    "import numpy as np\n",
    "import matplotlib.pyplot as plt\n",
    "\n",
    "real_value = -6      # The expected true value of the integral \n",
    "y_max = 20           # Upper limit for y in the sampling box\n",
    "N_s = 0              # Counter for successful samples\n",
    "N = 10000            # Total number of sample points\n",
    "A, B = [], []        # Lists to store error and sample size\n",
    "\n",
    "# Loop over different sample sizes (from 1 to 10000 in steps of 100)\n",
    "for j in range(1, N, 100):\n",
    "    N_s = 0\n",
    "    # First integral estimation \n",
    "    for i in range(j):\n",
    "        x = np.random.randint(0, 2) + np.random.rand()   # Random x in [0, 2)\n",
    "        y = np.random.randint(0, y_max) + np.random.rand()  # Random y in [0, 20)\n",
    "        if x**3 > y:\n",
    "            N_s += 1\n",
    "    int_1 = 2 * 20 * N_s / j   # Estimate for first integral (area = width * height * ratio)\n",
    "\n",
    "    N_s = 0\n",
    "    # Second integral estimation \n",
    "    for i in range(j):\n",
    "        x = np.random.randint(0, 2) + np.random.rand()\n",
    "        y = np.random.randint(0, y_max) + np.random.rand()\n",
    "        if x * 5 > y:\n",
    "            N_s += 1\n",
    "    int_2 = 2 * 20 * N_s / j   # Estimate for second integral\n",
    "\n",
    "    # Append relative error to A, and sample size to B\n",
    "    A.append(abs(int_1 - int_2 + 6) / 6)   # Relative error based on expected value = -6\n",
    "    B.append(j)\n",
    "\n",
    "# Print final estimated integral and error\n",
    "print(\"value of integrak is:\", int_1 - int_2)\n",
    "print(\"error is:\", abs(int_1 - int_2 + 6) / 6)\n",
    "\n",
    "# Plot error vs. number of sample points\n",
    "plt.plot(B, A)\n",
    "plt.xlabel(\"number of points\")  \n",
    "plt.ylabel(\"error \")  \n",
    "plt.show()\n"
   ]
  },
  {
   "cell_type": "markdown",
   "metadata": {},
   "source": [
    "## Question 7.2 - Simple & Smart Sampling"
   ]
  },
  {
   "cell_type": "markdown",
   "metadata": {},
   "source": [
    "### simple sampling"
   ]
  },
  {
   "cell_type": "code",
   "execution_count": 64,
   "metadata": {},
   "outputs": [
    {
     "name": "stdout",
     "output_type": "stream",
     "text": [
      "real_value=  0.8820813907624216\n",
      "simple_method=  0.892350570116059\n",
      "real_error=  0.011641986171776345\n",
      "analytic_error=  0.00342759839561814\n",
      "Runtime:  0.038266658782958984 seconds\n"
     ]
    }
   ],
   "source": [
    "import numpy as np \n",
    "import matplotlib.pyplot as plt\n",
    "import time\n",
    "\n",
    "# Start tracking execution time\n",
    "start_time = time.time()\n",
    "\n",
    "# Initializing variables for averaging f(x) and f(x)^2\n",
    "f_average = 0\n",
    "f2_average = 0\n",
    "\n",
    "# Number of samples\n",
    "N = 10000\n",
    "\n",
    "# Monte Carlo integration loop\n",
    "for i in range(N):\n",
    "    x = np.random.randint(0, 2) + np.random.rand()  # Random x in [0, 2)\n",
    "    f_average += np.e**(-x**2)  # Sum of the function values: f(x) = e^(-x^2)\n",
    "    f2_average += (np.e**(-x**2))**2  # Sum of squared function values\n",
    "\n",
    "# Estimating the integral using the simple method (Monte Carlo)\n",
    "simple_method = f_average * 2 / N  # Multiply by the width (2) and average\n",
    "\n",
    "# True value of the integral \n",
    "real_value = 0.8820813907624217\n",
    "\n",
    "# Calculate the relative error of the simple method estimate\n",
    "real_error = abs((simple_method - real_value) / real_value)\n",
    "\n",
    "# Calculate the analytic error using the variance formula for Monte Carlo\n",
    "analytic_error = np.sqrt(abs(f2_average / N - (simple_method / 2)**2))\n",
    "\n",
    "# Print results\n",
    "print(\"real_value= \", real_value)  # Exact value of the integral\n",
    "print(\"simple_method= \", simple_method)  # Estimated value using the simple method\n",
    "print(\"real_error= \", real_error)  # Relative error between the estimated and real values\n",
    "print(\"analytic_error= \", analytic_error / np.sqrt(N))  # Normalized analytic error\n",
    "\n",
    "# End tracking execution time\n",
    "end_time = time.time()\n",
    "\n",
    "# Print the time it took to run the program\n",
    "print(f\"Runtime: \", end_time - start_time, \"seconds\")\n"
   ]
  },
  {
   "cell_type": "markdown",
   "metadata": {},
   "source": [
    "### smart sampling"
   ]
  },
  {
   "cell_type": "markdown",
   "metadata": {},
   "source": [
    "## Question 7.3 - Multiple Integral (Finding the center of mass of a sphere)"
   ]
  },
  {
   "cell_type": "code",
   "execution_count": 65,
   "metadata": {},
   "outputs": [
    {
     "name": "stdout",
     "output_type": "stream",
     "text": [
      "z_center=  0.02616593545436269\n",
      "x_center=  0\n",
      "y_center=  0\n"
     ]
    }
   ],
   "source": [
    "import numpy as np \n",
    "import matplotlib.pyplot as plt\n",
    "\n",
    "# Initialize variables\n",
    "f_average = 0   # Sum of the function values for calculating the integral\n",
    "R = 1           # Radius of sphere\n",
    "N = 10000       # Number of random samples\n",
    "\n",
    "# First Monte Carlo estimation loop\n",
    "for i in range(N):\n",
    "    # Random sampling for x in the range [-R, R]\n",
    "    x = np.random.randint(-R, R) + np.random.rand()  # Uniform random sample in [-R, R]\n",
    "    \n",
    "    # Function to be integrated: f(x) = x^2 + 3Rx\n",
    "    f_average += x**2 + 3 * R * x\n",
    "\n",
    "# Estimate the integral using Monte Carlo, multiplying by the width of the integration range (2R)\n",
    "simple_method = f_average * 2 * R / N\n",
    "\n",
    "# Second Monte Carlo estimation loop (for mass)\n",
    "f_average2 = 0\n",
    "for i in range(N):\n",
    "    # Random sampling for x in the range [-R, R]\n",
    "    x = np.random.randint(-R, R) + np.random.rand()  # Uniform random sample in [-R, R]\n",
    "    \n",
    "    # Function for normalizing the integral (x+3R)\n",
    "    f_average2 += x+3*R\n",
    "\n",
    "simple2_method = f_average2 * 8 * R**3 / N\n",
    "\n",
    "# Calculate the center of mass in z-direction (the ratio of the two estimates)\n",
    "z_center = simple_method / simple2_method\n",
    "\n",
    "# Since the problem seems to be symmetric, we assume x_center and y_center are zero\n",
    "print(\"z_center= \", z_center)  # Output the center of mass in the z-direction\n",
    "print(\"x_center= \", 0)         # The x-center is zero due to symmetry\n",
    "print(\"y_center= \", 0)         # The y-center is zero due to symmetry\n"
   ]
  }
 ],
 "metadata": {
  "kernelspec": {
   "display_name": "Python 3",
   "language": "python",
   "name": "python3"
  },
  "language_info": {
   "codemirror_mode": {
    "name": "ipython",
    "version": 3
   },
   "file_extension": ".py",
   "mimetype": "text/x-python",
   "name": "python",
   "nbconvert_exporter": "python",
   "pygments_lexer": "ipython3",
   "version": "3.11.9"
  }
 },
 "nbformat": 4,
 "nbformat_minor": 2
}
